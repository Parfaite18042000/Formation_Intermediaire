{
 "cells": [
  {
   "cell_type": "markdown",
   "id": "068ce9b2",
   "metadata": {
    "toc": true
   },
   "source": [
    "<h1>Table of Contents<span class=\"tocSkip\"></span></h1>\n",
    "<div class=\"toc\"><ul class=\"toc-item\"><li><span><a href=\"#Importation-des-librairies-utiles\" data-toc-modified-id=\"Importation-des-librairies-utiles-1\"><span class=\"toc-item-num\">1&nbsp;&nbsp;</span>Importation des librairies utiles</a></span></li><li><span><a href=\"#Obtention-des-données\" data-toc-modified-id=\"Obtention-des-données-2\"><span class=\"toc-item-num\">2&nbsp;&nbsp;</span>Obtention des données</a></span></li><li><span><a href=\"#Exploration-de-la-Donnée\" data-toc-modified-id=\"Exploration-de-la-Donnée-3\"><span class=\"toc-item-num\">3&nbsp;&nbsp;</span>Exploration de la Donnée</a></span><ul class=\"toc-item\"><li><span><a href=\"#Identifier-les-features-et-le-Label\" data-toc-modified-id=\"Identifier-les-features-et-le-Label-3.1\"><span class=\"toc-item-num\">3.1&nbsp;&nbsp;</span>Identifier les features et le Label</a></span></li><li><span><a href=\"#Etude-des-valeurs-dupliquées\" data-toc-modified-id=\"Etude-des-valeurs-dupliquées-3.2\"><span class=\"toc-item-num\">3.2&nbsp;&nbsp;</span>Etude des valeurs dupliquées</a></span></li><li><span><a href=\"#Etude-basique-de-valeurs-aberrantes\" data-toc-modified-id=\"Etude-basique-de-valeurs-aberrantes-3.3\"><span class=\"toc-item-num\">3.3&nbsp;&nbsp;</span>Etude basique de valeurs aberrantes</a></span></li><li><span><a href=\"#Etude-des-valeurs-manquantes\" data-toc-modified-id=\"Etude-des-valeurs-manquantes-3.4\"><span class=\"toc-item-num\">3.4&nbsp;&nbsp;</span>Etude des valeurs manquantes</a></span></li><li><span><a href=\"#Distribution-des-données\" data-toc-modified-id=\"Distribution-des-données-3.5\"><span class=\"toc-item-num\">3.5&nbsp;&nbsp;</span>Distribution des données</a></span></li><li><span><a href=\"#Matrice-de-correlations\" data-toc-modified-id=\"Matrice-de-correlations-3.6\"><span class=\"toc-item-num\">3.6&nbsp;&nbsp;</span>Matrice de correlations</a></span></li><li><span><a href=\"#Résumé-de-la-partie-exploratoire---transformations-pertinentes?\" data-toc-modified-id=\"Résumé-de-la-partie-exploratoire---transformations-pertinentes?-3.7\"><span class=\"toc-item-num\">3.7&nbsp;&nbsp;</span>Résumé de la partie exploratoire - transformations pertinentes?</a></span></li></ul></li><li><span><a href=\"#Préparation-des-données\" data-toc-modified-id=\"Préparation-des-données-4\"><span class=\"toc-item-num\">4&nbsp;&nbsp;</span>Préparation des données</a></span><ul class=\"toc-item\"><li><span><a href=\"#Gestion-des-données-manquantes\" data-toc-modified-id=\"Gestion-des-données-manquantes-4.1\"><span class=\"toc-item-num\">4.1&nbsp;&nbsp;</span>Gestion des données manquantes</a></span></li><li><span><a href=\"#Correction-ou-suppression-de-valeurs-aberrantes\" data-toc-modified-id=\"Correction-ou-suppression-de-valeurs-aberrantes-4.2\"><span class=\"toc-item-num\">4.2&nbsp;&nbsp;</span>Correction ou suppression de valeurs aberrantes</a></span></li><li><span><a href=\"#Sélection-de-feature\" data-toc-modified-id=\"Sélection-de-feature-4.3\"><span class=\"toc-item-num\">4.3&nbsp;&nbsp;</span>Sélection de feature</a></span></li><li><span><a href=\"#Feature-engineering\" data-toc-modified-id=\"Feature-engineering-4.4\"><span class=\"toc-item-num\">4.4&nbsp;&nbsp;</span>Feature engineering</a></span></li><li><span><a href=\"#Feature-Scaling-and/or-Normalization\" data-toc-modified-id=\"Feature-Scaling-and/or-Normalization-4.5\"><span class=\"toc-item-num\">4.5&nbsp;&nbsp;</span><a href=\"https://colab.research.google.com/github/ml-course/master/blob/master/notebooks/06%20-%20Data%20Preprocessing.ipynb\" rel=\"nofollow\" target=\"_blank\">Feature Scaling and/or Normalization</a></a></span></li><li><span><a href=\"#Encoder-les-variables-catégorielles\" data-toc-modified-id=\"Encoder-les-variables-catégorielles-4.6\"><span class=\"toc-item-num\">4.6&nbsp;&nbsp;</span>Encoder les variables catégorielles</a></span></li><li><span><a href=\"#Créer-un-pipeline\" data-toc-modified-id=\"Créer-un-pipeline-4.7\"><span class=\"toc-item-num\">4.7&nbsp;&nbsp;</span>Créer un pipeline</a></span></li></ul></li></ul></div>"
   ]
  },
  {
   "cell_type": "markdown",
   "id": "4ca157d0",
   "metadata": {},
   "source": [
    "<img src=\"https://miro.medium.com/v2/resize:fit:1400/0*-G8VWk7x24EcOyza\" alt=\"image\" width=\"100%\">"
   ]
  },
  {
   "cell_type": "markdown",
   "id": "af3683bb",
   "metadata": {
    "lang": "en"
   },
   "source": [
    "L'objectif de ce Lab est de préparer les données permettant de prédire les prix de l'immobilier en Californie en 1990.\n",
    "\n",
    "Les données concernent les maisons trouvées dans un district californien donné et quelques statistiques récapitulatives à leur sujet basées sur les données du recensement de 1990. Soyez averti que les données ne sont pas nettoyées, certaines étapes de prétraitement sont donc requises ! Les colonnes sont les suivantes, leurs noms sont assez explicites :\n",
    "\n",
    "longitude\n",
    "\n",
    "latitude\n",
    "\n",
    "logement_âge médian_\n",
    "\n",
    "total_chambres\n",
    "\n",
    "total_chambres\n",
    "\n",
    "population\n",
    "\n",
    "ménages\n",
    "\n",
    "revenu_médian\n",
    "\n",
    "valeur médiane_de la maison\n",
    "\n",
    "océan_proximité\n",
    "\n",
    "Le prétraitement comprend la détection et la gestion des valeurs manquantes, l'enodage des caractéristiques catégorielles et ne se limite pas à ces étapes."
   ]
  },
  {
   "cell_type": "markdown",
   "id": "38750769",
   "metadata": {},
   "source": [
    "## Importation des librairies utiles"
   ]
  },
  {
   "cell_type": "code",
   "execution_count": 1,
   "id": "558fd931",
   "metadata": {
    "ExecuteTime": {
     "end_time": "2024-06-18T13:23:01.399492Z",
     "start_time": "2024-06-18T13:23:01.390528Z"
    }
   },
   "outputs": [],
   "source": [
    "import warnings\n",
    "warnings.filterwarnings(\"ignore\")"
   ]
  },
  {
   "cell_type": "code",
   "execution_count": 2,
   "id": "708b8bde",
   "metadata": {
    "ExecuteTime": {
     "end_time": "2024-06-18T13:23:05.943292Z",
     "start_time": "2024-06-18T13:23:01.449006Z"
    }
   },
   "outputs": [],
   "source": [
    "# import des librairies\n",
    "import os, random\n",
    "\n",
    "import numpy as np # manipulation de matrices\n",
    "import pandas as pd # chargement de donnees\n",
    "\n",
    "#visualisation\n",
    "import seaborn as sns \n",
    "import matplotlib.pyplot as plt \n",
    "\n",
    "# visualition de valeurs manquantes\n",
    "import missingno as msno\n",
    "\n",
    "# gestion des valeurs manquantes\n",
    "from sklearn.impute import SimpleImputer\n",
    "\n",
    "# encodage des variables categorielles\n",
    "from sklearn.preprocessing import OneHotEncoder  \n",
    "\n",
    "# mise a l'echelle des variables numeriques\n",
    "from sklearn.preprocessing import StandardScaler  \n",
    "\n",
    "# separation de la donnee en train, validation, et test\n",
    "from sklearn.model_selection import train_test_split\n",
    "\n",
    "# création de pipeline\n",
    "from sklearn.pipeline import Pipeline\n"
   ]
  },
  {
   "cell_type": "code",
   "execution_count": 3,
   "id": "2b935973",
   "metadata": {
    "ExecuteTime": {
     "end_time": "2024-06-18T13:23:05.959091Z",
     "start_time": "2024-06-18T13:23:05.950648Z"
    }
   },
   "outputs": [],
   "source": [
    "# ne modifier pas ce bout de code\n",
    "seed = 2024\n",
    "random.seed(seed)\n",
    "np.random.seed(seed)"
   ]
  },
  {
   "cell_type": "markdown",
   "id": "bb377923",
   "metadata": {},
   "source": [
    "## Obtention des données"
   ]
  },
  {
   "cell_type": "markdown",
   "id": "b99656ac",
   "metadata": {},
   "source": [
    "La donnée nécessaire pour ce Lab se trouve dans le dossier data/housing.csv."
   ]
  },
  {
   "cell_type": "code",
   "execution_count": 5,
   "id": "bc003697",
   "metadata": {
    "ExecuteTime": {
     "end_time": "2024-06-18T13:23:05.981229Z",
     "start_time": "2024-06-18T13:23:05.968485Z"
    }
   },
   "outputs": [],
   "source": [
    "# charger la donée  \n",
    "housing_df = pd.read_csv(\"data/housing.csv\", sep=\",\")"
   ]
  },
  {
   "cell_type": "code",
   "execution_count": 6,
   "id": "1a65921c",
   "metadata": {
    "ExecuteTime": {
     "end_time": "2024-06-18T13:23:06.000664Z",
     "start_time": "2024-06-18T13:23:05.989247Z"
    }
   },
   "outputs": [
    {
     "data": {
      "text/html": [
       "<div>\n",
       "<style scoped>\n",
       "    .dataframe tbody tr th:only-of-type {\n",
       "        vertical-align: middle;\n",
       "    }\n",
       "\n",
       "    .dataframe tbody tr th {\n",
       "        vertical-align: top;\n",
       "    }\n",
       "\n",
       "    .dataframe thead th {\n",
       "        text-align: right;\n",
       "    }\n",
       "</style>\n",
       "<table border=\"1\" class=\"dataframe\">\n",
       "  <thead>\n",
       "    <tr style=\"text-align: right;\">\n",
       "      <th></th>\n",
       "      <th>longitude</th>\n",
       "      <th>latitude</th>\n",
       "      <th>housing_median_age</th>\n",
       "      <th>total_rooms</th>\n",
       "      <th>total_bedrooms</th>\n",
       "      <th>population</th>\n",
       "      <th>households</th>\n",
       "      <th>median_income</th>\n",
       "      <th>median_house_value</th>\n",
       "      <th>ocean_proximity</th>\n",
       "    </tr>\n",
       "  </thead>\n",
       "  <tbody>\n",
       "    <tr>\n",
       "      <th>0</th>\n",
       "      <td>-122.23</td>\n",
       "      <td>37.88</td>\n",
       "      <td>41.0</td>\n",
       "      <td>880.0</td>\n",
       "      <td>129.0</td>\n",
       "      <td>322.0</td>\n",
       "      <td>126.0</td>\n",
       "      <td>8.3252</td>\n",
       "      <td>452600.0</td>\n",
       "      <td>NEAR BAY</td>\n",
       "    </tr>\n",
       "    <tr>\n",
       "      <th>1</th>\n",
       "      <td>-122.22</td>\n",
       "      <td>37.86</td>\n",
       "      <td>21.0</td>\n",
       "      <td>7099.0</td>\n",
       "      <td>1106.0</td>\n",
       "      <td>2401.0</td>\n",
       "      <td>1138.0</td>\n",
       "      <td>8.3014</td>\n",
       "      <td>358500.0</td>\n",
       "      <td>NEAR BAY</td>\n",
       "    </tr>\n",
       "    <tr>\n",
       "      <th>2</th>\n",
       "      <td>-122.24</td>\n",
       "      <td>37.85</td>\n",
       "      <td>52.0</td>\n",
       "      <td>1467.0</td>\n",
       "      <td>190.0</td>\n",
       "      <td>496.0</td>\n",
       "      <td>177.0</td>\n",
       "      <td>7.2574</td>\n",
       "      <td>352100.0</td>\n",
       "      <td>NEAR BAY</td>\n",
       "    </tr>\n",
       "    <tr>\n",
       "      <th>3</th>\n",
       "      <td>-122.25</td>\n",
       "      <td>37.85</td>\n",
       "      <td>52.0</td>\n",
       "      <td>1274.0</td>\n",
       "      <td>235.0</td>\n",
       "      <td>558.0</td>\n",
       "      <td>219.0</td>\n",
       "      <td>5.6431</td>\n",
       "      <td>341300.0</td>\n",
       "      <td>NEAR BAY</td>\n",
       "    </tr>\n",
       "    <tr>\n",
       "      <th>4</th>\n",
       "      <td>-122.25</td>\n",
       "      <td>37.85</td>\n",
       "      <td>52.0</td>\n",
       "      <td>1627.0</td>\n",
       "      <td>280.0</td>\n",
       "      <td>565.0</td>\n",
       "      <td>259.0</td>\n",
       "      <td>3.8462</td>\n",
       "      <td>342200.0</td>\n",
       "      <td>NEAR BAY</td>\n",
       "    </tr>\n",
       "  </tbody>\n",
       "</table>\n",
       "</div>"
      ],
      "text/plain": [
       "   longitude  latitude  housing_median_age  total_rooms  total_bedrooms  \\\n",
       "0    -122.23     37.88                41.0        880.0           129.0   \n",
       "1    -122.22     37.86                21.0       7099.0          1106.0   \n",
       "2    -122.24     37.85                52.0       1467.0           190.0   \n",
       "3    -122.25     37.85                52.0       1274.0           235.0   \n",
       "4    -122.25     37.85                52.0       1627.0           280.0   \n",
       "\n",
       "   population  households  median_income  median_house_value ocean_proximity  \n",
       "0       322.0       126.0         8.3252            452600.0        NEAR BAY  \n",
       "1      2401.0      1138.0         8.3014            358500.0        NEAR BAY  \n",
       "2       496.0       177.0         7.2574            352100.0        NEAR BAY  \n",
       "3       558.0       219.0         5.6431            341300.0        NEAR BAY  \n",
       "4       565.0       259.0         3.8462            342200.0        NEAR BAY  "
      ]
     },
     "execution_count": 6,
     "metadata": {},
     "output_type": "execute_result"
    }
   ],
   "source": [
    "# afficher les 5 premières lignes\n",
    "housing_df.head()"
   ]
  },
  {
   "cell_type": "code",
   "execution_count": 14,
   "id": "408e268b",
   "metadata": {},
   "outputs": [
    {
     "data": {
      "text/plain": [
       "{'<1H OCEAN', 'INLAND', 'ISLAND', 'NEAR BAY', 'NEAR OCEAN'}"
      ]
     },
     "execution_count": 14,
     "metadata": {},
     "output_type": "execute_result"
    }
   ],
   "source": [
    "set(housing_df['ocean_proximity'])"
   ]
  },
  {
   "cell_type": "code",
   "execution_count": 10,
   "id": "5bada91f",
   "metadata": {
    "ExecuteTime": {
     "end_time": "2024-06-18T13:23:06.021700Z",
     "start_time": "2024-06-18T13:23:06.005677Z"
    }
   },
   "outputs": [
    {
     "data": {
      "text/plain": [
       "(20640, 10)"
      ]
     },
     "execution_count": 10,
     "metadata": {},
     "output_type": "execute_result"
    }
   ],
   "source": [
    "# vérifier la taille de la donnée\n",
    "housing_df.shape"
   ]
  },
  {
   "cell_type": "code",
   "execution_count": 16,
   "id": "53171074",
   "metadata": {
    "ExecuteTime": {
     "end_time": "2024-06-18T13:23:06.036347Z",
     "start_time": "2024-06-18T13:23:06.025714Z"
    }
   },
   "outputs": [
    {
     "data": {
      "text/plain": [
       "longitude             float64\n",
       "latitude              float64\n",
       "housing_median_age    float64\n",
       "total_rooms           float64\n",
       "total_bedrooms        float64\n",
       "population            float64\n",
       "households            float64\n",
       "median_income         float64\n",
       "median_house_value    float64\n",
       "ocean_proximity        object\n",
       "dtype: object"
      ]
     },
     "execution_count": 16,
     "metadata": {},
     "output_type": "execute_result"
    }
   ],
   "source": [
    "# vérifier le type de donnée (série temporelle, échantillon, géographique, ...)\n",
    "housing_df.dtypes"
   ]
  },
  {
   "cell_type": "markdown",
   "id": "41d8e049",
   "metadata": {},
   "source": [
    "Le data dredging (également connu sous le nom de data snooping ou p-hacking) est l'utilisation abusive de l'analyse de données pour trouver des modèles dans les données qui peuvent être présentés comme statistiquement significatifs, augmentant ainsi considérablement le risque de faux positifs et le sous-estimant."
   ]
  },
  {
   "cell_type": "code",
   "execution_count": 17,
   "id": "f3910adf",
   "metadata": {
    "ExecuteTime": {
     "end_time": "2024-06-18T13:23:06.053452Z",
     "start_time": "2024-06-18T13:23:06.039360Z"
    }
   },
   "outputs": [],
   "source": [
    "# mettez un échantillon de 20% de la donnée de côté que vous ne regarderez jamais \n",
    "# en utilisant train_test_split. Utiliser random_state = 67\n",
    "housing_train_df, housing_test_df = train_test_split(housing_df, test_size=0.2, random_state=67)\n",
    "\n",
    "# sauvegarder les ensembles crees a l'aide de pd.to_csv dans le dossier data\n",
    "# sous les noms housing_train.csv et housing_test.csv\n",
    "housing_train_df.to_csv('data/housing_train.csv', index=False)\n",
    "housing_test_df.to_csv('data/housing_test.csv', index=False)"
   ]
  },
  {
   "cell_type": "markdown",
   "id": "b0c8e55f",
   "metadata": {},
   "source": [
    "Pour les analyses subséquentes, veillez à ne travailler qu'avec la donnée d'entraînement."
   ]
  },
  {
   "cell_type": "markdown",
   "id": "631b3d28",
   "metadata": {},
   "source": [
    "## Exploration de la Donnée"
   ]
  },
  {
   "cell_type": "markdown",
   "id": "cb4c6c8a",
   "metadata": {},
   "source": [
    "### Identifier les features et le Label"
   ]
  },
  {
   "cell_type": "markdown",
   "id": "8ccf4d35",
   "metadata": {},
   "source": [
    "- Combien de features/ caractéristiques sont présentes dans le jeu de données?\n",
    "- Quels sont leurs types?\n",
    "- Le Label est-il continu ou catégoriel?"
   ]
  },
  {
   "cell_type": "code",
   "execution_count": 24,
   "id": "181153bc",
   "metadata": {},
   "outputs": [
    {
     "name": "stdout",
     "output_type": "stream",
     "text": [
      "les features sont au nombre de 9.\n",
      "<class 'pandas.core.frame.DataFrame'>\n",
      "RangeIndex: 20640 entries, 0 to 20639\n",
      "Data columns (total 10 columns):\n",
      " #   Column              Non-Null Count  Dtype  \n",
      "---  ------              --------------  -----  \n",
      " 0   longitude           20640 non-null  float64\n",
      " 1   latitude            20640 non-null  float64\n",
      " 2   housing_median_age  20640 non-null  float64\n",
      " 3   total_rooms         20640 non-null  float64\n",
      " 4   total_bedrooms      20433 non-null  float64\n",
      " 5   population          20640 non-null  float64\n",
      " 6   households          20640 non-null  float64\n",
      " 7   median_income       20640 non-null  float64\n",
      " 8   median_house_value  20640 non-null  float64\n",
      " 9   ocean_proximity     20640 non-null  object \n",
      "dtypes: float64(9), object(1)\n",
      "memory usage: 1.6+ MB\n"
     ]
    }
   ],
   "source": [
    "#Nombre de features\n",
    "nbre_features = len(housing_df.columns) - 1\n",
    "print(f'les features sont au nombre de {nbre_features}.')\n",
    "\n",
    "#Leurs types\n",
    "housing_df.info()"
   ]
  },
  {
   "cell_type": "code",
   "execution_count": 29,
   "id": "fe2b6480",
   "metadata": {},
   "outputs": [
    {
     "name": "stdout",
     "output_type": "stream",
     "text": [
      "Ici le label est \"median_house_value\" car on veut prédire le prix des logements.\n",
      " Or \"median_house_value\" est un float64 donc numérique.\n",
      " Alors le label est continu.\n"
     ]
    }
   ],
   "source": [
    "#Type de label\n",
    "typeLabel = housing_df['median_house_value'].dtype\n",
    "print(f'Ici le label est \"median_house_value\" car on veut prédire le prix des logements.\\n Or \"median_house_value\" est un {typeLabel} donc numérique.\\n Alors le label est continu.')"
   ]
  },
  {
   "cell_type": "markdown",
   "id": "ba8bc98e",
   "metadata": {},
   "source": [
    "### Etude des valeurs dupliquées"
   ]
  },
  {
   "cell_type": "code",
   "execution_count": 36,
   "id": "ec986cfa",
   "metadata": {},
   "outputs": [
    {
     "name": "stdout",
     "output_type": "stream",
     "text": [
      "Donc pas de lignes dupliquées dans ce dataframe.\n"
     ]
    }
   ],
   "source": [
    "valsDuplicated = housing_df.duplicated()\n",
    "valsDuplicated.sum()\n",
    "print('Donc pas de lignes dupliquées dans ce dataframe.')"
   ]
  },
  {
   "cell_type": "markdown",
   "id": "da165750",
   "metadata": {},
   "source": [
    "### Etude basique de valeurs aberrantes"
   ]
  },
  {
   "cell_type": "code",
   "execution_count": 55,
   "id": "42c8b9b0",
   "metadata": {},
   "outputs": [
    {
     "data": {
      "text/html": [
       "<div>\n",
       "<style scoped>\n",
       "    .dataframe tbody tr th:only-of-type {\n",
       "        vertical-align: middle;\n",
       "    }\n",
       "\n",
       "    .dataframe tbody tr th {\n",
       "        vertical-align: top;\n",
       "    }\n",
       "\n",
       "    .dataframe thead th {\n",
       "        text-align: right;\n",
       "    }\n",
       "</style>\n",
       "<table border=\"1\" class=\"dataframe\">\n",
       "  <thead>\n",
       "    <tr style=\"text-align: right;\">\n",
       "      <th></th>\n",
       "      <th>longitude</th>\n",
       "      <th>latitude</th>\n",
       "      <th>housing_median_age</th>\n",
       "      <th>total_rooms</th>\n",
       "      <th>total_bedrooms</th>\n",
       "      <th>population</th>\n",
       "      <th>households</th>\n",
       "      <th>median_income</th>\n",
       "      <th>median_house_value</th>\n",
       "    </tr>\n",
       "  </thead>\n",
       "  <tbody>\n",
       "    <tr>\n",
       "      <th>count</th>\n",
       "      <td>20640.000000</td>\n",
       "      <td>20640.000000</td>\n",
       "      <td>20640.000000</td>\n",
       "      <td>20640.000000</td>\n",
       "      <td>20433.000000</td>\n",
       "      <td>20640.000000</td>\n",
       "      <td>20640.000000</td>\n",
       "      <td>20640.000000</td>\n",
       "      <td>20640.000000</td>\n",
       "    </tr>\n",
       "    <tr>\n",
       "      <th>mean</th>\n",
       "      <td>-119.569704</td>\n",
       "      <td>35.631861</td>\n",
       "      <td>28.639486</td>\n",
       "      <td>2635.763081</td>\n",
       "      <td>537.870553</td>\n",
       "      <td>1425.476744</td>\n",
       "      <td>499.539680</td>\n",
       "      <td>3.870671</td>\n",
       "      <td>206855.816909</td>\n",
       "    </tr>\n",
       "    <tr>\n",
       "      <th>std</th>\n",
       "      <td>2.003532</td>\n",
       "      <td>2.135952</td>\n",
       "      <td>12.585558</td>\n",
       "      <td>2181.615252</td>\n",
       "      <td>421.385070</td>\n",
       "      <td>1132.462122</td>\n",
       "      <td>382.329753</td>\n",
       "      <td>1.899822</td>\n",
       "      <td>115395.615874</td>\n",
       "    </tr>\n",
       "    <tr>\n",
       "      <th>min</th>\n",
       "      <td>-124.350000</td>\n",
       "      <td>32.540000</td>\n",
       "      <td>1.000000</td>\n",
       "      <td>2.000000</td>\n",
       "      <td>1.000000</td>\n",
       "      <td>3.000000</td>\n",
       "      <td>1.000000</td>\n",
       "      <td>0.499900</td>\n",
       "      <td>14999.000000</td>\n",
       "    </tr>\n",
       "    <tr>\n",
       "      <th>25%</th>\n",
       "      <td>-121.800000</td>\n",
       "      <td>33.930000</td>\n",
       "      <td>18.000000</td>\n",
       "      <td>1447.750000</td>\n",
       "      <td>296.000000</td>\n",
       "      <td>787.000000</td>\n",
       "      <td>280.000000</td>\n",
       "      <td>2.563400</td>\n",
       "      <td>119600.000000</td>\n",
       "    </tr>\n",
       "    <tr>\n",
       "      <th>50%</th>\n",
       "      <td>-118.490000</td>\n",
       "      <td>34.260000</td>\n",
       "      <td>29.000000</td>\n",
       "      <td>2127.000000</td>\n",
       "      <td>435.000000</td>\n",
       "      <td>1166.000000</td>\n",
       "      <td>409.000000</td>\n",
       "      <td>3.534800</td>\n",
       "      <td>179700.000000</td>\n",
       "    </tr>\n",
       "    <tr>\n",
       "      <th>75%</th>\n",
       "      <td>-118.010000</td>\n",
       "      <td>37.710000</td>\n",
       "      <td>37.000000</td>\n",
       "      <td>3148.000000</td>\n",
       "      <td>647.000000</td>\n",
       "      <td>1725.000000</td>\n",
       "      <td>605.000000</td>\n",
       "      <td>4.743250</td>\n",
       "      <td>264725.000000</td>\n",
       "    </tr>\n",
       "    <tr>\n",
       "      <th>max</th>\n",
       "      <td>-114.310000</td>\n",
       "      <td>41.950000</td>\n",
       "      <td>52.000000</td>\n",
       "      <td>39320.000000</td>\n",
       "      <td>6445.000000</td>\n",
       "      <td>35682.000000</td>\n",
       "      <td>6082.000000</td>\n",
       "      <td>15.000100</td>\n",
       "      <td>500001.000000</td>\n",
       "    </tr>\n",
       "  </tbody>\n",
       "</table>\n",
       "</div>"
      ],
      "text/plain": [
       "          longitude      latitude  housing_median_age   total_rooms  \\\n",
       "count  20640.000000  20640.000000        20640.000000  20640.000000   \n",
       "mean    -119.569704     35.631861           28.639486   2635.763081   \n",
       "std        2.003532      2.135952           12.585558   2181.615252   \n",
       "min     -124.350000     32.540000            1.000000      2.000000   \n",
       "25%     -121.800000     33.930000           18.000000   1447.750000   \n",
       "50%     -118.490000     34.260000           29.000000   2127.000000   \n",
       "75%     -118.010000     37.710000           37.000000   3148.000000   \n",
       "max     -114.310000     41.950000           52.000000  39320.000000   \n",
       "\n",
       "       total_bedrooms    population    households  median_income  \\\n",
       "count    20433.000000  20640.000000  20640.000000   20640.000000   \n",
       "mean       537.870553   1425.476744    499.539680       3.870671   \n",
       "std        421.385070   1132.462122    382.329753       1.899822   \n",
       "min          1.000000      3.000000      1.000000       0.499900   \n",
       "25%        296.000000    787.000000    280.000000       2.563400   \n",
       "50%        435.000000   1166.000000    409.000000       3.534800   \n",
       "75%        647.000000   1725.000000    605.000000       4.743250   \n",
       "max       6445.000000  35682.000000   6082.000000      15.000100   \n",
       "\n",
       "       median_house_value  \n",
       "count        20640.000000  \n",
       "mean        206855.816909  \n",
       "std         115395.615874  \n",
       "min          14999.000000  \n",
       "25%         119600.000000  \n",
       "50%         179700.000000  \n",
       "75%         264725.000000  \n",
       "max         500001.000000  "
      ]
     },
     "execution_count": 55,
     "metadata": {},
     "output_type": "execute_result"
    }
   ],
   "source": [
    "## description du jeu de données et interpretation\n",
    "housing_df.describe()"
   ]
  },
  {
   "cell_type": "code",
   "execution_count": 54,
   "id": "eb5fbedd",
   "metadata": {
    "ExecuteTime": {
     "end_time": "2024-06-18T13:23:06.069503Z",
     "start_time": "2024-06-18T13:23:06.056468Z"
    }
   },
   "outputs": [
    {
     "name": "stdout",
     "output_type": "stream",
     "text": [
      "Pour la colonne: longitude on a:\n",
      "\n",
      "La moyenne est: -119.56970445736432\n",
      "\n",
      "La Médiane est: -118.49\n",
      "\n",
      "Le Minimum est: -124.35\n",
      "\n",
      "Le Maximum est: -114.31\n",
      "\n",
      "----------------------------------------------------\n",
      "\n",
      "Pour la colonne: latitude on a:\n",
      "\n",
      "La moyenne est: 35.63186143410853\n",
      "\n",
      "La Médiane est: 34.26\n",
      "\n",
      "Le Minimum est: 32.54\n",
      "\n",
      "Le Maximum est: 41.95\n",
      "\n",
      "----------------------------------------------------\n",
      "\n",
      "Pour la colonne: housing_median_age on a:\n",
      "\n",
      "La moyenne est: 28.639486434108527\n",
      "\n",
      "La Médiane est: 29.0\n",
      "\n",
      "Le Minimum est: 1.0\n",
      "\n",
      "Le Maximum est: 52.0\n",
      "\n",
      "----------------------------------------------------\n",
      "\n",
      "Pour la colonne: total_rooms on a:\n",
      "\n",
      "La moyenne est: 2635.7630813953488\n",
      "\n",
      "La Médiane est: 2127.0\n",
      "\n",
      "Le Minimum est: 2.0\n",
      "\n",
      "Le Maximum est: 39320.0\n",
      "\n",
      "----------------------------------------------------\n",
      "\n",
      "Pour la colonne: total_bedrooms on a:\n",
      "\n",
      "La moyenne est: 537.8705525375618\n",
      "\n",
      "La Médiane est: 435.0\n",
      "\n",
      "Le Minimum est: 1.0\n",
      "\n",
      "Le Maximum est: 6445.0\n",
      "\n",
      "----------------------------------------------------\n",
      "\n",
      "Pour la colonne: population on a:\n",
      "\n",
      "La moyenne est: 1425.4767441860465\n",
      "\n",
      "La Médiane est: 1166.0\n",
      "\n",
      "Le Minimum est: 3.0\n",
      "\n",
      "Le Maximum est: 35682.0\n",
      "\n",
      "----------------------------------------------------\n",
      "\n",
      "Pour la colonne: households on a:\n",
      "\n",
      "La moyenne est: 499.5396802325581\n",
      "\n",
      "La Médiane est: 409.0\n",
      "\n",
      "Le Minimum est: 1.0\n",
      "\n",
      "Le Maximum est: 6082.0\n",
      "\n",
      "----------------------------------------------------\n",
      "\n",
      "Pour la colonne: median_income on a:\n",
      "\n",
      "La moyenne est: 3.8706710029069766\n",
      "\n",
      "La Médiane est: 3.5347999999999997\n",
      "\n",
      "Le Minimum est: 0.4999\n",
      "\n",
      "Le Maximum est: 15.0001\n",
      "\n",
      "----------------------------------------------------\n",
      "\n",
      "Pour la colonne: median_house_value on a:\n",
      "\n",
      "La moyenne est: 206855.81690891474\n",
      "\n",
      "La Médiane est: 179700.0\n",
      "\n",
      "Le Minimum est: 14999.0\n",
      "\n",
      "Le Maximum est: 500001.0\n",
      "\n",
      "----------------------------------------------------\n",
      "\n"
     ]
    }
   ],
   "source": [
    "\n",
    "# comparaison des valeurs extrêmes au valeurs centrales\n",
    "cols = list(housing_df.columns)\n",
    "cols = cols[:-1]\n",
    "for col in cols:\n",
    "    print(f'Pour la colonne: {col} on a:\\n')\n",
    "    print(f'La moyenne est: {housing_df[col].mean()}\\n')\n",
    "    print(f'La Médiane est: {housing_df[col].median()}\\n')\n",
    "    print(f'Le Minimum est: {housing_df[col].min()}\\n')\n",
    "    print(f'Le Maximum est: {housing_df[col].max()}\\n')\n",
    "    print('----------------------------------------------------\\n')\n"
   ]
  },
  {
   "cell_type": "markdown",
   "id": "ce762b0d",
   "metadata": {},
   "source": [
    "### Etude des valeurs manquantes"
   ]
  },
  {
   "cell_type": "code",
   "execution_count": 71,
   "id": "10ddc371",
   "metadata": {
    "ExecuteTime": {
     "end_time": "2024-06-18T13:23:06.084178Z",
     "start_time": "2024-06-18T13:23:06.073518Z"
    }
   },
   "outputs": [
    {
     "data": {
      "text/plain": [
       "longitude               0\n",
       "latitude                0\n",
       "housing_median_age      0\n",
       "total_rooms             0\n",
       "total_bedrooms        207\n",
       "population              0\n",
       "households              0\n",
       "median_income           0\n",
       "median_house_value      0\n",
       "ocean_proximity         0\n",
       "dtype: int64"
      ]
     },
     "execution_count": 71,
     "metadata": {},
     "output_type": "execute_result"
    }
   ],
   "source": [
    "# visualiser les valeurs manquantes de quatre façons différentes\n",
    "# et interpréter chaque visualisation\n",
    "# simple tableau\n",
    "housing_df.isna().sum()\n"
   ]
  },
  {
   "cell_type": "code",
   "execution_count": 72,
   "id": "34f7103f",
   "metadata": {},
   "outputs": [
    {
     "name": "stdout",
     "output_type": "stream",
     "text": [
      "Ici nous voyons la somme du nombre de valeurs manquantes au niveau de chaque colonne et au niveau de la 'total_bedrooms' on a 207. \n",
      "\n",
      "Donc c'est auniveau de cette colonne qu'on a des valeurs manquantes\n"
     ]
    }
   ],
   "source": [
    "print(\"Ici nous voyons la somme du nombre de valeurs manquantes au niveau de chaque colonne et au niveau de la 'total_bedrooms' on a 207. \\n\")\n",
    "print(\"Donc c'est auniveau de cette colonne qu'on a des valeurs manquantes\")"
   ]
  },
  {
   "cell_type": "code",
   "execution_count": 11,
   "id": "6ebf740a",
   "metadata": {
    "ExecuteTime": {
     "end_time": "2024-06-18T13:23:06.105283Z",
     "start_time": "2024-06-18T13:23:06.092195Z"
    }
   },
   "outputs": [],
   "source": [
    "# dendograme\n"
   ]
  },
  {
   "cell_type": "code",
   "execution_count": 73,
   "id": "96225bbd",
   "metadata": {
    "ExecuteTime": {
     "end_time": "2024-06-18T13:23:06.119220Z",
     "start_time": "2024-06-18T13:23:06.110296Z"
    }
   },
   "outputs": [
    {
     "data": {
      "image/png": "[encoded data removed]",
      "text/plain": [
       "<Figure size 400x400 with 2 Axes>"
      ]
     },
     "metadata": {},
     "output_type": "display_data"
    },
    {
     "name": "stdout",
     "output_type": "stream",
     "text": [
      "On peut constater par ce graphique que c'est au niveau de 'total_bedrooms qu'on a des tirets, donc des valeus qui manques\n",
      "\n",
      "Les espaces vides signifie que des valeurs existent bien là. Alors c'est uniquement cette colonne qui manque de valeurs\n"
     ]
    }
   ],
   "source": [
    "# heatmap de correlations\n",
    "plt.figure(figsize=(4, 4))\n",
    "sns.heatmap(housing_df.isna(), cbar=True, cmap='YlGnBu')\n",
    "plt.title('Heatmap de correlation des valeurs manquantes.\\n')\n",
    "plt.show()\n",
    "print(\"On peut constater par ce graphique que c'est au niveau de 'total_bedrooms qu'on a des tirets, donc des valeus qui manques\\n\")\n",
    "print(\"Les espaces vides signifie que des valeurs existent bien là. Alors c'est uniquement cette colonne qui manque de valeurs\")"
   ]
  },
  {
   "cell_type": "code",
   "execution_count": 74,
   "id": "ccfddf9b",
   "metadata": {
    "ExecuteTime": {
     "end_time": "2024-06-18T13:23:06.135021Z",
     "start_time": "2024-06-18T13:23:06.123233Z"
    }
   },
   "outputs": [
    {
     "data": {
      "image/png": "[encoded data removed]",
      "text/plain": [
       "<Figure size 2500x1000 with 2 Axes>"
      ]
     },
     "metadata": {},
     "output_type": "display_data"
    },
    {
     "name": "stdout",
     "output_type": "stream",
     "text": [
      "On peut constater par ce graphique que c'est au niveau de 'total_bedrooms qu'on a des tirets, donc des valeus qui manques\n",
      "\n",
      " Alors c'est uniquement cette colonne qui manque de valeurs\n"
     ]
    }
   ],
   "source": [
    "# Matrice\n",
    "msno.matrix(housing_df)\n",
    "plt.title('Visualisation des valeurs manquantes avec Missingno(matrice)')\n",
    "plt.show()\n",
    "print(\"On peut constater par ce graphique que c'est au niveau de 'total_bedrooms qu'on a des tirets, donc des valeus qui manques\\n\")\n",
    "print(\" Alors c'est uniquement cette colonne qui manque de valeurs\")"
   ]
  },
  {
   "cell_type": "markdown",
   "id": "35992392",
   "metadata": {},
   "source": [
    "### Distribution des données"
   ]
  },
  {
   "cell_type": "code",
   "execution_count": 14,
   "id": "1a2e2a7e",
   "metadata": {
    "ExecuteTime": {
     "end_time": "2024-06-18T13:23:06.150973Z",
     "start_time": "2024-06-18T13:23:06.139033Z"
    }
   },
   "outputs": [],
   "source": [
    "# Boxplot du Label vs chaque variable categorielle \n",
    "# si le nombre de catégories n'excède 10, sinon des barplots\n"
   ]
  },
  {
   "cell_type": "code",
   "execution_count": null,
   "id": "a50013d8",
   "metadata": {},
   "outputs": [],
   "source": []
  },
  {
   "cell_type": "code",
   "execution_count": 15,
   "id": "9d2e3cb3",
   "metadata": {
    "ExecuteTime": {
     "end_time": "2024-06-18T13:23:06.173052Z",
     "start_time": "2024-06-18T13:23:06.155986Z"
    }
   },
   "outputs": [],
   "source": [
    "# subplots des distributions de toutes les variables numériques\n"
   ]
  },
  {
   "cell_type": "code",
   "execution_count": null,
   "id": "e7742fb5",
   "metadata": {},
   "outputs": [],
   "source": []
  },
  {
   "cell_type": "markdown",
   "id": "d318eb1a",
   "metadata": {},
   "source": [
    "### Matrice de correlations"
   ]
  },
  {
   "cell_type": "code",
   "execution_count": null,
   "id": "f9387e28",
   "metadata": {},
   "outputs": [],
   "source": []
  },
  {
   "cell_type": "markdown",
   "id": "fbe1376c",
   "metadata": {},
   "source": [
    "### Résumé de la partie exploratoire - transformations pertinentes?"
   ]
  },
  {
   "cell_type": "code",
   "execution_count": null,
   "id": "149fa642",
   "metadata": {},
   "outputs": [],
   "source": []
  },
  {
   "cell_type": "code",
   "execution_count": null,
   "id": "4a431e5a",
   "metadata": {},
   "outputs": [],
   "source": []
  },
  {
   "cell_type": "markdown",
   "id": "728f7037",
   "metadata": {},
   "source": [
    "## Préparation des données"
   ]
  },
  {
   "cell_type": "markdown",
   "id": "9b804223",
   "metadata": {},
   "source": [
    "### Gestion des données manquantes"
   ]
  },
  {
   "cell_type": "markdown",
   "id": "83a4b367",
   "metadata": {},
   "source": [
    "- Utilisez l'une des trois approches classiques de gestion de données manquantes (suppression, encodage, imputation) à ce jeu de données et justifier votre choix. Discuter égalment de l'impact de votre approche sur les performances du modèle de prédiction du pric médian que vous concevrez plutard."
   ]
  },
  {
   "cell_type": "code",
   "execution_count": 16,
   "id": "2e74c7ca",
   "metadata": {
    "ExecuteTime": {
     "end_time": "2024-06-18T13:23:06.191088Z",
     "start_time": "2024-06-18T13:23:06.179064Z"
    }
   },
   "outputs": [],
   "source": [
    "# gestion des données manquantes\n",
    "housing_train_clean_df = _"
   ]
  },
  {
   "cell_type": "code",
   "execution_count": null,
   "id": "cc6e891b",
   "metadata": {},
   "outputs": [],
   "source": []
  },
  {
   "cell_type": "markdown",
   "id": "bc29eb57",
   "metadata": {},
   "source": [
    "### Correction ou suppression de valeurs aberrantes"
   ]
  },
  {
   "cell_type": "code",
   "execution_count": null,
   "id": "4380601f",
   "metadata": {},
   "outputs": [],
   "source": []
  },
  {
   "cell_type": "code",
   "execution_count": null,
   "id": "1f3e4523",
   "metadata": {},
   "outputs": [],
   "source": []
  },
  {
   "cell_type": "markdown",
   "id": "8e015b7c",
   "metadata": {},
   "source": [
    "### Sélection de feature"
   ]
  },
  {
   "cell_type": "code",
   "execution_count": 17,
   "id": "bae6364f",
   "metadata": {
    "ExecuteTime": {
     "end_time": "2024-06-18T13:23:06.743088Z",
     "start_time": "2024-06-18T13:23:06.735832Z"
    }
   },
   "outputs": [],
   "source": [
    "# supprimez les variables ne fournissant pas d'informations utiles\n",
    "# pour prédire le prix médian des maisons\n"
   ]
  },
  {
   "cell_type": "code",
   "execution_count": null,
   "id": "fe45139f",
   "metadata": {},
   "outputs": [],
   "source": []
  },
  {
   "cell_type": "markdown",
   "id": "99123c72",
   "metadata": {},
   "source": [
    "### Feature engineering"
   ]
  },
  {
   "cell_type": "markdown",
   "id": "8b33f480",
   "metadata": {},
   "source": [
    "- Discrétisez les variables continues\n",
    "- Décomposez les features si nécessaire : catégorie, date/time,...\n",
    "- Effectuez des transformations prometeuses : aggrégation, log(x), sqrt(x),...\n"
   ]
  },
  {
   "cell_type": "code",
   "execution_count": null,
   "id": "94210234",
   "metadata": {},
   "outputs": [],
   "source": []
  },
  {
   "cell_type": "code",
   "execution_count": null,
   "id": "599a2124",
   "metadata": {},
   "outputs": [],
   "source": []
  },
  {
   "cell_type": "markdown",
   "id": "0c2a8ae1",
   "metadata": {},
   "source": [
    "### [Feature Scaling and/or Normalization](https://colab.research.google.com/github/ml-course/master/blob/master/notebooks/06%20-%20Data%20Preprocessing.ipynb)"
   ]
  },
  {
   "cell_type": "markdown",
   "id": "01363815",
   "metadata": {},
   "source": [
    "- Réduiser à la même échelle entre 0 et 1 toutes les variables numériques"
   ]
  },
  {
   "cell_type": "code",
   "execution_count": null,
   "id": "9255b194",
   "metadata": {},
   "outputs": [],
   "source": []
  },
  {
   "cell_type": "code",
   "execution_count": null,
   "id": "adcf9c33",
   "metadata": {},
   "outputs": [],
   "source": []
  },
  {
   "cell_type": "markdown",
   "id": "1a5fb938",
   "metadata": {},
   "source": [
    "### Encoder les variables catégorielles"
   ]
  },
  {
   "cell_type": "code",
   "execution_count": null,
   "id": "88ae2b9f",
   "metadata": {},
   "outputs": [],
   "source": []
  },
  {
   "cell_type": "markdown",
   "id": "ce8f01f5",
   "metadata": {},
   "source": [
    "### Créer un pipeline "
   ]
  },
  {
   "cell_type": "markdown",
   "id": "2126a37d",
   "metadata": {},
   "source": [
    "- Créez un pipeline pour automatiser les transformations effectuer sur l'ensemble d'entraînement et éviter les fuites de données\n",
    "\n",
    "- Séparez la donnée d'entraînement en ensemble d'entraînement et de validation\n",
    "\n",
    "- Appliquer le pipeline créer dessus"
   ]
  },
  {
   "cell_type": "code",
   "execution_count": null,
   "id": "33d7b6bc",
   "metadata": {},
   "outputs": [],
   "source": []
  }
 ],
 "metadata": {
  "kernelspec": {
   "display_name": "Python 3 (ipykernel)",
   "language": "python",
   "name": "python3"
  },
  "language_info": {
   "codemirror_mode": {
    "name": "ipython",
    "version": 3
   },
   "file_extension": ".py",
   "mimetype": "text/x-python",
   "name": "python",
   "nbconvert_exporter": "python",
   "pygments_lexer": "ipython3",
   "version": "3.11.5"
  },
  "nbTranslate": {
   "displayLangs": [
    "*"
   ],
   "hotkey": "alt-t",
   "langInMainMenu": true,
   "sourceLang": "en",
   "targetLang": "fr",
   "useGoogleTranslate": true
  },
  "toc": {
   "base_numbering": 1,
   "nav_menu": {},
   "number_sections": true,
   "sideBar": true,
   "skip_h1_title": true,
   "title_cell": "Table of Contents",
   "title_sidebar": "Contents",
   "toc_cell": true,
   "toc_position": {},
   "toc_section_display": true,
   "toc_window_display": true
  }
 },
 "nbformat": 4,
 "nbformat_minor": 5
}
